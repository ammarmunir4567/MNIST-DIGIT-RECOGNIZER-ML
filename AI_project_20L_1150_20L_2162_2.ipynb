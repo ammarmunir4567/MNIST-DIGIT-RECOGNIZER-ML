{
  "cells": [
    {
      "cell_type": "markdown",
      "id": "0f573f44",
      "metadata": {
        "id": "0f573f44"
      },
      "source": [
        "# Importing the used libraries"
      ]
    },
    {
      "cell_type": "code",
      "execution_count": null,
      "id": "f8910c93",
      "metadata": {
        "id": "f8910c93"
      },
      "outputs": [],
      "source": [
        "#for processing\n",
        "import pandas as pd\n",
        "import numpy as np\n",
        "import cv2\n",
        "import csv\n",
        "import glob\n",
        "\n",
        "#for UI\n",
        "import tkinter as tk\n",
        "from tkinter import filedialog\n",
        "from PIL import Image, ImageTk\n",
        "\n",
        "#for training and computations\n",
        "from sklearn.ensemble import RandomForestClassifier\n",
        "from sklearn.model_selection import train_test_split\n",
        "from sklearn.preprocessing import StandardScaler\n",
        "from sklearn.neural_network import MLPClassifier\n",
        "from sklearn.metrics import accuracy_score, confusion_matrix, precision_score, recall_score, f1_score, roc_auc_score\n",
        "import joblib\n"
      ]
    },
    {
      "cell_type": "markdown",
      "id": "0f46d226",
      "metadata": {
        "id": "0f46d226"
      },
      "source": [
        "# Reading and processing data"
      ]
    },
    {
      "cell_type": "code",
      "execution_count": null,
      "id": "c84e6c46",
      "metadata": {
        "id": "c84e6c46"
      },
      "outputs": [],
      "source": [
        "Digit_num=10\n",
        "size=28\n",
        "\n",
        "\n",
        "#header of csv\n",
        "title = [\"label\"]\n",
        "for i in range(0, 28):\n",
        "    for j in range(0,28):\n",
        "        title.append(str(i)+\"x\" + str(j))\n",
        "\n",
        "# Write the header to the CSV file\n",
        "with open(\"dataset_file.csv\", \"a\") as file:\n",
        "    writer = csv.writer(file)\n",
        "    writer.writerow(title)\n",
        "\n",
        "# Loop through each label (0-9)\n",
        "for digit_in_col in range(Digit_num):\n",
        "    # Get a list of all image files for the current directory\n",
        "    Lis = glob.glob(\"/Users/ammarmunir/Desktop/Dataset/trainingSet/trainingSet/\" + str(digit_in_col) + \"/*.jpg\")\n",
        "\n",
        "    # Loop through each image file\n",
        "    for path in Lis:\n",
        "        # convert  to grayscale\n",
        "        convert = cv2.imread(path)\n",
        "        gray = cv2.cvtColor(convert, cv2.COLOR_BGR2GRAY)\n",
        "\n",
        "        # Resize the image to 28x28 pixels\n",
        "        roi = cv2.resize(gray, (size, size), interpolation=cv2.INTER_AREA)\n",
        "\n",
        "        # Extract the pixel values from the image\n",
        "        data = []\n",
        "        data.append(digit_in_col)\n",
        "        rows, cols = roi.shape\n",
        "        for i in range(rows):\n",
        "            for j in range(cols):\n",
        "                k = roi[i, j]\n",
        "                if k >= 120:\n",
        "                    k = 1\n",
        "                else:\n",
        "                    k = 0\n",
        "                data.append(k)\n",
        "\n",
        "        # Write the pixel values and label to the CSV file\n",
        "        with open(\"dataset_file.csv\", \"a\") as file:\n",
        "            writer = csv.writer(file)\n",
        "            writer.writerow(data)\n",
        "\n",
        "# Read the CSV file using pandas\n",
        "data = pd.read_csv(\"dataset_file.csv\")\n",
        "\n",
        "\n"
      ]
    },
    {
      "cell_type": "code",
      "execution_count": null,
      "id": "15dfe2e0",
      "metadata": {
        "id": "15dfe2e0"
      },
      "outputs": [],
      "source": [
        "# data.info()\n",
        "# cols = list(data.columns)\n",
        "\n",
        "#data = data.apply(pd.to_numeric, errors='coerce')\n"
      ]
    },
    {
      "cell_type": "code",
      "execution_count": null,
      "id": "ec75ad2d",
      "metadata": {
        "id": "ec75ad2d"
      },
      "outputs": [],
      "source": [
        "#data[data.isnull().values]"
      ]
    },
    {
      "cell_type": "code",
      "execution_count": null,
      "id": "57eb8996",
      "metadata": {
        "id": "57eb8996"
      },
      "outputs": [],
      "source": []
    },
    {
      "cell_type": "code",
      "execution_count": null,
      "id": "264b65ac",
      "metadata": {
        "id": "264b65ac"
      },
      "outputs": [],
      "source": [
        "x=data.drop(\"label\",axis=1).values\n",
        "y=data[\"label\"].values\n"
      ]
    },
    {
      "cell_type": "code",
      "execution_count": null,
      "id": "cb4834d0",
      "metadata": {
        "id": "cb4834d0"
      },
      "outputs": [],
      "source": [
        "\n",
        "# Split the dataset into training and testing sets\n",
        "X_train, X_test, y_train, y_test = train_test_split(x, y, test_size=0.2, random_state=42)\n"
      ]
    },
    {
      "cell_type": "markdown",
      "id": "da430f24",
      "metadata": {
        "id": "da430f24"
      },
      "source": [
        "# Training the first model"
      ]
    },
    {
      "cell_type": "code",
      "execution_count": null,
      "id": "b38fb11f",
      "metadata": {
        "id": "b38fb11f"
      },
      "outputs": [],
      "source": [
        "rf_model = RandomForestClassifier(n_estimators=100, random_state=42)\n",
        "rf_model.fit(X_train, y_train)\n",
        "rf_y_pred = rf_model.predict(X_test)\n",
        "\n",
        "rf_accuracy = accuracy_score(y_test, rf_y_pred)\n",
        "rf_conf_mat = confusion_matrix(y_test, rf_y_pred)\n",
        "rf_precision = precision_score(y_test, rf_y_pred, average='weighted')\n",
        "rf_recall = recall_score(y_test, rf_y_pred, average='weighted')\n",
        "rf_f1 = f1_score(y_test, rf_y_pred, average='weighted')\n",
        "#rf_roc_auc = roc_auc_score(y_test, rf_y_pred)\n",
        "\n"
      ]
    },
    {
      "cell_type": "markdown",
      "id": "21b4a3d0",
      "metadata": {
        "id": "21b4a3d0"
      },
      "source": [
        "# Training the second model"
      ]
    },
    {
      "cell_type": "code",
      "execution_count": null,
      "id": "3869589c",
      "metadata": {
        "id": "3869589c"
      },
      "outputs": [],
      "source": [
        "# Preprocess the data by scaling the features\n",
        "scaler = StandardScaler()\n",
        "X_train = scaler.fit_transform(X_train)\n",
        "X_test = scaler.transform(X_test)"
      ]
    },
    {
      "cell_type": "code",
      "execution_count": null,
      "id": "b31e8c6d",
      "metadata": {
        "id": "b31e8c6d",
        "outputId": "f2b42398-56f7-4f66-c142-e35741211235"
      },
      "outputs": [
        {
          "data": {
            "text/plain": [
              "MLPClassifier(hidden_layer_sizes=(64, 64), random_state=42)"
            ]
          },
          "execution_count": 9,
          "metadata": {},
          "output_type": "execute_result"
        }
      ],
      "source": [
        "# Preprocess the data by scaling the features\n",
        "model = MLPClassifier(hidden_layer_sizes=(64, 64), random_state=42)\n",
        "model.fit(X_train, y_train)"
      ]
    },
    {
      "cell_type": "code",
      "execution_count": null,
      "id": "94d39bd2",
      "metadata": {
        "id": "94d39bd2",
        "outputId": "ad6701d9-11ec-4ad3-dc13-91fa8777519e"
      },
      "outputs": [
        {
          "name": "stdout",
          "output_type": "stream",
          "text": [
            "Training Accuracy: 1.0\n",
            "Testing Accuracy: 0.9551190476190476\n"
          ]
        }
      ],
      "source": [
        "y_pred_train = model.predict(X_train)\n",
        "train_accuracy = accuracy_score(y_train, y_pred_train)\n",
        "print('Training Accuracy:', train_accuracy)\n",
        "\n",
        "y_pred_test = model.predict(X_test)\n",
        "test_accuracy = accuracy_score(y_test, y_pred_test)\n",
        "print('Testing Accuracy:', test_accuracy)"
      ]
    },
    {
      "cell_type": "code",
      "execution_count": null,
      "id": "16c8d5cc",
      "metadata": {
        "id": "16c8d5cc",
        "outputId": "4699ee87-cde0-4ec1-bd56-027a90e75cfb"
      },
      "outputs": [
        {
          "name": "stdout",
          "output_type": "stream",
          "text": [
            "Confusion Matrix:\n",
            " [[856   1   1   2   2   3   7   1   2   2]\n",
            " [  0 949   5   1   1   3   1   2   2   4]\n",
            " [  6   2 782  11   7   2   4   7   5   1]\n",
            " [  2   1   6 801   0  12   0   7   8   5]\n",
            " [  2   0   2   2 803   0   8   1   2  18]\n",
            " [  4   2   3  12   4 709   5   0   6   3]\n",
            " [  2   0   3   0   3   7 757   0   3   0]\n",
            " [  2   5   9   4   5   3   0 835   1  15]\n",
            " [  5   4   6  11   2  10   8   5 755   9]\n",
            " [  5   1   2   7  18   1   0  14   7 776]]\n",
            "Precision: 0.9551393743545974\n",
            "Recall: 0.9551190476190476\n",
            "F1 Score: 0.9550903416289275\n"
          ]
        }
      ],
      "source": [
        "\n",
        "confusion_mat = confusion_matrix(y_test, y_pred_test)\n",
        "precision = precision_score(y_test, y_pred_test, average='weighted')\n",
        "recall = recall_score(y_test, y_pred_test, average='weighted')\n",
        "f1 = f1_score(y_test, y_pred_test, average='weighted')\n",
        "\n",
        "\n",
        "\n",
        "print('Confusion Matrix:\\n', confusion_mat)\n",
        "print('Precision:', precision)\n",
        "print('Recall:', recall)\n",
        "print('F1 Score:', f1)\n",
        "\n",
        "\n",
        "\n",
        "\n"
      ]
    },
    {
      "cell_type": "markdown",
      "id": "6f991ce5",
      "metadata": {
        "id": "6f991ce5"
      },
      "source": [
        "\n",
        "# Comparing both models and selecting and saving the best model"
      ]
    },
    {
      "cell_type": "code",
      "execution_count": null,
      "id": "ad3ae851",
      "metadata": {
        "id": "ad3ae851",
        "outputId": "2beb8b41-e8d9-4a10-839e-5494628c7232"
      },
      "outputs": [
        {
          "name": "stdout",
          "output_type": "stream",
          "text": [
            "0.9560714285714286\n",
            "RandomForestClassifier(random_state=42)\n"
          ]
        }
      ],
      "source": [
        "# Save the best model based on accuracy score\n",
        "print(rf_accuracy)\n",
        "if rf_accuracy > test_accuracy:\n",
        "    best_model = rf_model\n",
        "else:\n",
        "    best_model = model\n",
        "\n",
        "joblib.dump(best_model, 'best_model.joblib')\n",
        "best_model = joblib.load('best_model.joblib')\n",
        "print(best_model)\n",
        "\n",
        "# Print the evaluation metrics\n",
        "# print('Random Forest:\\nAccuracy:', rf_accuracy, '\\nConfusion Matrix:\\n', rf_conf_mat,\n",
        "#       '\\nPrecision:', rf_precision, '\\nRecall:', rf_recall, '\\nF1 Score:', rf_f1, '\\nROC AUC:', rf_roc_auc)\n",
        "# print('\\nSupport Vector Machine:\\nAccuracy:', svm_accuracy, '\\nConfusion Matrix:\\n', svm_conf_mat,\n",
        "#       '\\nPrecision:', svm_precision, '\\nRecall:', svm_recall, '\\nF1 Score:', svm_f1, '\\nROC AUC:', svm_roc_auc)\n"
      ]
    },
    {
      "cell_type": "markdown",
      "id": "b527f845",
      "metadata": {
        "id": "b527f845"
      },
      "source": [
        "# GUI component"
      ]
    },
    {
      "cell_type": "code",
      "execution_count": null,
      "id": "43f5754e",
      "metadata": {
        "id": "43f5754e",
        "outputId": "ba731d27-6d01-4f35-80d4-b94039c52fb2"
      },
      "outputs": [
        {
          "name": "stderr",
          "output_type": "stream",
          "text": [
            "2023-05-12 22:15:33.713 python[2375:13326952] +[CATransaction synchronize] called within transaction\n",
            "2023-05-12 22:15:33.751 python[2375:13326952] +[CATransaction synchronize] called within transaction\n",
            "2023-05-12 22:15:38.819 python[2375:13326952] +[CATransaction synchronize] called within transaction\n",
            "2023-05-12 22:15:38.853 python[2375:13326952] +[CATransaction synchronize] called within transaction\n",
            "2023-05-12 22:15:44.762 python[2375:13326952] +[CATransaction synchronize] called within transaction\n",
            "2023-05-12 22:15:44.799 python[2375:13326952] +[CATransaction synchronize] called within transaction\n"
          ]
        }
      ],
      "source": [
        "\n",
        "# Create a GUI for testing the model using an image file\n",
        "def load_image():\n",
        "    file_path = filedialog.askopenfilename(filetypes=[('JPG Files', '*.jpg')])\n",
        "    image = Image.open(file_path).convert('L')\n",
        "    image = image.resize((28, 28))\n",
        "    image_array = np.array(image)\n",
        "    image_array = image_array.flatten() / 255.0  # Normalize pixel values\n",
        "\n",
        "\n",
        "    # Display the image in the GUI window\n",
        "    image_tk = ImageTk.PhotoImage(image)\n",
        "    image_label.config(image=image_tk)\n",
        "    image_label.image = image_tk\n",
        "\n",
        "    prediction = best_model.predict([image_array])\n",
        "    result_label.config(text='Prediction: {}'.format(prediction[0]))\n",
        "\n",
        "# Create the GUI window\n",
        "window = tk.Tk()\n",
        "window.title('MNIST Digit Recognition')\n",
        "window.geometry('400x200')\n",
        "\n",
        "# Create a button to load the image\n",
        "load_button = tk.Button(window, text='Load Image', command=load_image)\n",
        "load_button.pack()\n",
        "\n",
        "# Create a label to display the prediction result\n",
        "result_label = tk.Label(window, text='Prediction: ')\n",
        "result_label.pack()\n",
        "\n",
        "# Create a label to display the loaded image\n",
        "image_label = tk.Label(window)\n",
        "image_label.pack()\n",
        "\n",
        "# Start the GUI event loop\n",
        "window.mainloop()"
      ]
    },
    {
      "cell_type": "code",
      "execution_count": null,
      "id": "d52bf3c2",
      "metadata": {
        "id": "d52bf3c2"
      },
      "outputs": [],
      "source": []
    },
    {
      "cell_type": "code",
      "execution_count": null,
      "id": "330e2759",
      "metadata": {
        "id": "330e2759"
      },
      "outputs": [],
      "source": []
    }
  ],
  "metadata": {
    "colab": {
      "provenance": []
    },
    "kernelspec": {
      "display_name": "Python 3 (ipykernel)",
      "language": "python",
      "name": "python3"
    },
    "language_info": {
      "codemirror_mode": {
        "name": "ipython",
        "version": 3
      },
      "file_extension": ".py",
      "mimetype": "text/x-python",
      "name": "python",
      "nbconvert_exporter": "python",
      "pygments_lexer": "ipython3",
      "version": "3.9.13"
    }
  },
  "nbformat": 4,
  "nbformat_minor": 5
}